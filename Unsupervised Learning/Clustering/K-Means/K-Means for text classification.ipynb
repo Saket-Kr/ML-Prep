{
 "cells": [
  {
   "cell_type": "markdown",
   "metadata": {},
   "source": [
    "### Creating our dataset, list of sentences of class 'trip' and 'cricket'. We can use other sources in the same format."
   ]
  },
  {
   "cell_type": "code",
   "execution_count": 41,
   "metadata": {},
   "outputs": [],
   "source": [
    "document = ['This is the most beautiful place in the world.', 'This man has more skills to show in cricket than any other game.', 'Hi there! how was your ladakh trip last month?', 'There was a player who had scored 200+ runs in single cricket innings in his career.', 'I have got the opportunity to travel to Paris next year for my internship.', 'May be he is better than you in batting but you are much better than him in bowling.', 'That was really a great day for me when I was there at Lavasa for the whole night.', 'That’s exactly I wanted to become, a highest ratting batsmen ever with top scores.', 'Does it really matter wether you go to Thailand or Goa, its just you have spend your holidays.', 'Why don’t you go to Switzerland next year for your 25th Wedding anniversary?', 'Travel is fatal to prejudice, bigotry, and narrow mindedness., and many of our people need it sorely on these accounts.', 'Stop worrying about the potholes in the road and enjoy the journey.', 'No cricket team in the world depends on one or two players. The team always plays to win.', 'Cricket is a team game. If you want fame for yourself, go play an individual game.', 'Because in the end, you won’t remember the time you spent working in the office or mowing your lawn. Climb that goddamn mountain.', 'Isn’t cricket supposed to be a team sport? I feel people should decide first whether cricket is a team game or an individual sport.']"
   ]
  },
  {
   "cell_type": "markdown",
   "metadata": {},
   "source": [
    "### Loading required packages"
   ]
  },
  {
   "cell_type": "code",
   "execution_count": 42,
   "metadata": {},
   "outputs": [],
   "source": [
    "from sklearn.feature_extraction.text import TfidfVectorizer\n",
    "from sklearn.cluster import KMeans\n",
    "import numpy as np\n",
    "import pandas as pd"
   ]
  },
  {
   "cell_type": "markdown",
   "metadata": {},
   "source": [
    "### Using the TfidfVectorizer to exclude the stop words and then transform the dataset into tfidf vector"
   ]
  },
  {
   "cell_type": "code",
   "execution_count": 53,
   "metadata": {},
   "outputs": [],
   "source": [
    "vectorizer = TfidfVectorizer(stop_words='english')\n",
    "X = vectorizer.fit_transform(document)"
   ]
  },
  {
   "cell_type": "markdown",
   "metadata": {},
   "source": [
    "### Setting the parameter and fitting the model "
   ]
  },
  {
   "cell_type": "code",
   "execution_count": 54,
   "metadata": {},
   "outputs": [
    {
     "data": {
      "text/plain": [
       "KMeans(algorithm='auto', copy_x=True, init='k-means++', max_iter=100,\n",
       "    n_clusters=2, n_init=1, n_jobs=1, precompute_distances='auto',\n",
       "    random_state=None, tol=0.0001, verbose=0)"
      ]
     },
     "execution_count": 54,
     "metadata": {},
     "output_type": "execute_result"
    }
   ],
   "source": [
    "true_k = 2\n",
    "model = KMeans(n_clusters=true_k, init='k-means++', max_iter=100, n_init=1)\n",
    "model.fit(X)"
   ]
  },
  {
   "cell_type": "markdown",
   "metadata": {},
   "source": [
    "### Viewing all elements in both formed clusters. W"
   ]
  },
  {
   "cell_type": "code",
   "execution_count": 55,
   "metadata": {},
   "outputs": [],
   "source": [
    "order_centroids = model.cluster_centers_.argsort()[:, ::-1]\n",
    "terms = vectorizer.get_feature_names()"
   ]
  },
  {
   "cell_type": "code",
   "execution_count": 56,
   "metadata": {},
   "outputs": [
    {
     "name": "stdout",
     "output_type": "stream",
     "text": [
      "Cluster: 0\n",
      "better\n",
      "ladakh\n",
      "month\n",
      "hi\n",
      "trip\n",
      "exactly\n",
      "bowling\n",
      "highest\n",
      "scores\n",
      "stop\n",
      "Cluster: 1\n",
      "cricket\n",
      "team\n",
      "game\n",
      "world\n",
      "year\n",
      "really\n",
      "travel\n",
      "beautiful\n",
      "place\n",
      "man\n"
     ]
    }
   ],
   "source": [
    "for i in range(true_k):\n",
    "    print(\"Cluster:\", i),\n",
    "    for ind in order_centroids[i, :10]:\n",
    "        print(terms[ind])"
   ]
  },
  {
   "cell_type": "markdown",
   "metadata": {},
   "source": [
    "### Predicting a new sentence"
   ]
  },
  {
   "cell_type": "code",
   "execution_count": 65,
   "metadata": {},
   "outputs": [
    {
     "name": "stdout",
     "output_type": "stream",
     "text": [
      "[0]\n"
     ]
    }
   ],
   "source": [
    "X = vectorizer.transform([\"Let's go for this trip.\"])\n",
    "predicted = model.predict(X)\n",
    "print(predicted)"
   ]
  },
  {
   "cell_type": "markdown",
   "metadata": {},
   "source": [
    "#### As you can see from the previous cells, [0] corresponds to the class trip and hence it is predicted successfully. This model won't predict for all of the sentences, in order to that, we'll need to have much more data containing many more features. "
   ]
  },
  {
   "cell_type": "code",
   "execution_count": null,
   "metadata": {},
   "outputs": [],
   "source": []
  }
 ],
 "metadata": {
  "kernelspec": {
   "display_name": "Python 3",
   "language": "python",
   "name": "python3"
  },
  "language_info": {
   "codemirror_mode": {
    "name": "ipython",
    "version": 3
   },
   "file_extension": ".py",
   "mimetype": "text/x-python",
   "name": "python",
   "nbconvert_exporter": "python",
   "pygments_lexer": "ipython3",
   "version": "3.6.4"
  }
 },
 "nbformat": 4,
 "nbformat_minor": 2
}
